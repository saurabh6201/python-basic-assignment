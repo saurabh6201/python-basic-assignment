{
 "cells": [
  {
   "attachments": {},
   "cell_type": "markdown",
   "id": "defa1cd4-7ff9-4c11-9843-cc374a295aa0",
   "metadata": {},
   "source": [
    "                                     PYTHON BASIC ASSINGMENT 1\n",
    "\n",
    "                                      THEORYTICAL QUESTIONS"
   ]
  },
  {
   "cell_type": "code",
   "execution_count": 14,
   "id": "eb01a328-98ab-491e-988e-de3837a2bd52",
   "metadata": {},
   "outputs": [],
   "source": [
    "#Q.1> What is Python, and why is it popular?\n",
    "\n",
    "#ANS.> Python is a programing language,it is vary popular because,\n",
    "#      easy to learn python to stat as a learn first programing language\n",
    "#      python have a lot of libraires\n",
    "#      python has huge active comunity\n",
    "#      python have a implicit typecasting (he understand the type of data)\n",
    "         "
   ]
  },
  {
   "cell_type": "code",
   "execution_count": 16,
   "id": "4e8a3f09-08c0-4f17-8edd-7f98b9cdd707",
   "metadata": {},
   "outputs": [],
   "source": [
    "#Q.2> What is an interpreter in Python?\n",
    "#ans.>In Python, an interpreter is a program that reads and executes Python code line by line. "
   ]
  },
  {
   "cell_type": "code",
   "execution_count": 22,
   "id": "2d7626ad-9312-48d2-ac75-a7e7cec09eb4",
   "metadata": {},
   "outputs": [],
   "source": [
    "#Q.3> What are pre-defined keywords in Python?\n",
    "#ans.>in python keywords are the reserved words.we cannot use a keywords as a variable name,beause\n",
    "#     its have a fixed specicifik task to work, in python they are mainly 35 total keywords. "
   ]
  },
  {
   "cell_type": "code",
   "execution_count": 24,
   "id": "ecbad03b-0470-4f2d-a2f2-e8e2ef8e0667",
   "metadata": {},
   "outputs": [],
   "source": [
    "#Q.4> Can keywords be used as variable names?\n",
    "#ANS.>No,we cant be used keywords as a variable name."
   ]
  },
  {
   "cell_type": "code",
   "execution_count": 28,
   "id": "faa3248d-cab8-417a-9671-347113741771",
   "metadata": {},
   "outputs": [],
   "source": [
    "#Q.5>What is mutability in Python?\n",
    "#ans.> A object/container whose state or a value can be changed after they are created they are called mutable object\n",
    "#      and the proccess of changing its value is called mutability"
   ]
  },
  {
   "cell_type": "code",
   "execution_count": 30,
   "id": "1b89d377-ccec-4360-b61d-3d1c589be7b4",
   "metadata": {},
   "outputs": [],
   "source": [
    "#Q.6> Why are lists mutable, but tuples are immutable?\n",
    "#ans.>lists are mutable but tuple are imutable because\n",
    "#     Lists are designed to be dynamic containers, meant to hold elements that might change over time. \n",
    "#     They are used when you need to store a collection of items and expect to modify the collection (add, remove, or update elements).\n",
    "\n",
    "#     Tuples are designed to be immutable and they are used to represent fixed collections of items.\n",
    "#     They are intended for situations where the data should not change after creation. \n",
    "#     This immutability provides reliability when you need to ensure that the data remains constant. "
   ]
  },
  {
   "cell_type": "code",
   "execution_count": 32,
   "id": "8c27b1d2-55a4-4145-bd57-20494863380b",
   "metadata": {},
   "outputs": [],
   "source": [
    "#Q.7> What is the difference between “==” and “is” operators in Python\n",
    "#ans.> in python \"==\" oparetors indicates the value of two objects are equal,but \"is\" oparetors  is Checking  two variables refer \n",
    "#       to the same object in memory"
   ]
  },
  {
   "cell_type": "code",
   "execution_count": 34,
   "id": "01d330d1-985b-4a7f-a29f-81fb32a47f1e",
   "metadata": {},
   "outputs": [],
   "source": [
    "#Q.8> What are logical operators in python?\n",
    "#ans.> Logical oparetors are used for a particular condition is True or False. "
   ]
  },
  {
   "cell_type": "code",
   "execution_count": 36,
   "id": "6f487874-59cd-446b-92df-23bb5a472517",
   "metadata": {},
   "outputs": [],
   "source": [
    "#Q.9> What is type casting in Python?\n",
    "#ans.>The process of changing the data's type of an object is called type casting.\n",
    "#     while executing computation using oparetors,there can be mismatch between the data."
   ]
  },
  {
   "cell_type": "code",
   "execution_count": 38,
   "id": "133f3a88-18e9-4425-b703-04c8e29aa5c2",
   "metadata": {},
   "outputs": [],
   "source": [
    "#Q.10> What is the difference between implicit and explicit type casting?\n",
    "#ans.> implicit typecasting means those programing language understand data's type of a variable,not cumplesury to declearing the datatype\n",
    "#      but if i programing in any language & deaclearing the datatype means it have implicit type casting."
   ]
  },
  {
   "cell_type": "code",
   "execution_count": 45,
   "id": "56f4a1be-7c20-46c1-b241-4b411f33487e",
   "metadata": {},
   "outputs": [],
   "source": [
    "#Q.11> What is the purpose of conditional statements in Python?\n",
    "#ans.>conditional statements are used for make a dicision in code it allows to execute different block of code\n",
    "#     based on wheather a condition evaluates to True or False."
   ]
  },
  {
   "cell_type": "code",
   "execution_count": 47,
   "id": "ac898383-8b3f-45c0-bb99-143aaa359ac6",
   "metadata": {},
   "outputs": [],
   "source": [
    "#Q.12> How does the elif statement work?\n",
    "#ans.> when we have a different types of dicision & its result to print,we used elif statement after one if statement."
   ]
  },
  {
   "cell_type": "code",
   "execution_count": 49,
   "id": "12766265-79a4-45ce-a939-b2986c87d25a",
   "metadata": {},
   "outputs": [],
   "source": [
    "#Q.13> What is the difference between for and while loops?\n",
    "#ans.>in while loop repeatdly execute the block of code until a condition is met and,\n",
    "#      in for loop itarate over a sequence of eliment"
   ]
  },
  {
   "cell_type": "markdown",
   "id": "c9a65225-fba9-4f2e-9dff-b630e2597882",
   "metadata": {},
   "source": [
    "                                            PRACTICAL QUESTIONS"
   ]
  },
  {
   "cell_type": "code",
   "execution_count": 52,
   "id": "cff5f6c6-2270-4bbe-8114-ea6430475fad",
   "metadata": {},
   "outputs": [
    {
     "name": "stdout",
     "output_type": "stream",
     "text": [
      "hello,world!\n"
     ]
    }
   ],
   "source": [
    "# Q1> Write a Python program to print \"Hello, World!\"\n",
    "print(\"hello,world!\")"
   ]
  },
  {
   "cell_type": "code",
   "execution_count": 58,
   "id": "734e761c-9357-4aba-b14a-815335a8cc9f",
   "metadata": {},
   "outputs": [
    {
     "name": "stdout",
     "output_type": "stream",
     "text": [
      "name: SAURABH KUMAR \n",
      "age: 22 years\n"
     ]
    }
   ],
   "source": [
    "# Q2> Write a Python program that displays your name and age.\n",
    "a=\"SAURABH KUMAR\"\n",
    "b= \"22 years\"\n",
    "print(\"name:\",a,\"\\n\"\"age:\",b)"
   ]
  },
  {
   "cell_type": "code",
   "execution_count": 60,
   "id": "f8d496e6-65ff-44ca-b0bf-b131eddf8ea6",
   "metadata": {},
   "outputs": [
    {
     "name": "stdout",
     "output_type": "stream",
     "text": [
      "\n",
      "Here is a list of the Python keywords.  Enter any keyword to get more help.\n",
      "\n",
      "False               class               from                or\n",
      "None                continue            global              pass\n",
      "True                def                 if                  raise\n",
      "and                 del                 import              return\n",
      "as                  elif                in                  try\n",
      "assert              else                is                  while\n",
      "async               except              lambda              with\n",
      "await               finally             nonlocal            yield\n",
      "break               for                 not                 \n",
      "\n"
     ]
    }
   ],
   "source": [
    "# Q3> Write code to print all the pre-defined keywords in Python using the keyword library.\n",
    "help(\"keywords\")"
   ]
  },
  {
   "cell_type": "code",
   "execution_count": 66,
   "id": "aa77e298-8360-44db-8e76-f42699e6a356",
   "metadata": {},
   "outputs": [],
   "source": [
    "# Q4> Write a program that checks if a given word is a Python keyword."
   ]
  },
  {
   "cell_type": "code",
   "execution_count": 126,
   "id": "a8c9eb79-c263-4271-b4ca-6b17460dbbd1",
   "metadata": {},
   "outputs": [
    {
     "name": "stdout",
     "output_type": "stream",
     "text": [
      "original list [2, 16, 5.64, 'saurabh']\n",
      "modifying list [2, 16, 5.64, 6]\n",
      "modifying list [2, 16, 'saurabh', 6]\n",
      "<class 'str'>\n"
     ]
    }
   ],
   "source": [
    "# Q5>Create a list and tuple in Python, and demonstrate how attempting to change an element works differently for each\n",
    "a=[2,16,5.64,\"saurabh\"] #attempt in the list to change the element is successful because a list is a mutable object\n",
    "print(\"original list\",a)\n",
    "a[3]=6 #attempt in the list to change the element is successful because a list is a mutable object\n",
    "print(\"modifying list\",a)\n",
    "a[2]=\"saurabh\"\n",
    "print (\"modifying list\",a)\n",
    "print(type(a[2]))\n"
   ]
  },
  {
   "cell_type": "code",
   "execution_count": 76,
   "id": "4835810b-6226-4393-bc40-42e6452b2ffd",
   "metadata": {},
   "outputs": [
    {
     "ename": "TypeError",
     "evalue": "'tuple' object does not support item assignment",
     "output_type": "error",
     "traceback": [
      "\u001b[1;31m---------------------------------------------------------------------------\u001b[0m",
      "\u001b[1;31mTypeError\u001b[0m                                 Traceback (most recent call last)",
      "Cell \u001b[1;32mIn[76], line 2\u001b[0m\n\u001b[0;32m      1\u001b[0m b\u001b[38;5;241m=\u001b[39m\u001b[38;5;241m2\u001b[39m,\u001b[38;5;241m16\u001b[39m,\u001b[38;5;241m5.64\u001b[39m,\u001b[38;5;124m\"\u001b[39m\u001b[38;5;124msaurabh\u001b[39m\u001b[38;5;124m\"\u001b[39m\n\u001b[1;32m----> 2\u001b[0m b[\u001b[38;5;241m3\u001b[39m]\u001b[38;5;241m=\u001b[39m\u001b[38;5;241m6\u001b[39m\n\u001b[0;32m      3\u001b[0m \u001b[38;5;28mprint\u001b[39m(b)\n",
      "\u001b[1;31mTypeError\u001b[0m: 'tuple' object does not support item assignment"
     ]
    }
   ],
   "source": [
    "b=(2,16,5.64,\"saurabh\")\n",
    "b[3]=6\n",
    "print(b)# A tuple is not a mutable objects that's way the element of a tuple is not change. "
   ]
  },
  {
   "cell_type": "code",
   "execution_count": 84,
   "id": "7502cf07-af5f-422d-8730-800528a4b78d",
   "metadata": {},
   "outputs": [],
   "source": [
    "# Q6> Write a function to demonstrate the behavior of mutable and immutable argument"
   ]
  },
  {
   "cell_type": "code",
   "execution_count": 102,
   "id": "379838f6-1dee-4e09-ba09-17d9b51692f8",
   "metadata": {},
   "outputs": [],
   "source": [
    "#Q8>  Write a program to demonstrate the use of logical operator"
   ]
  },
  {
   "cell_type": "code",
   "execution_count": 122,
   "id": "cbef2a9a-b996-4d55-919c-e3114bb5e695",
   "metadata": {},
   "outputs": [
    {
     "name": "stdin",
     "output_type": "stream",
     "text": [
      "enter your total marks: 58\n"
     ]
    },
    {
     "name": "stdout",
     "output_type": "stream",
     "text": [
      "you are passed\n",
      "because,you got 58 out of 100;\n",
      "passing marks 30 & grace marks 3\n"
     ]
    }
   ],
   "source": [
    "# ANS> when we made a student's report card we need to make a programe that calerified the students grade or statusto(sub>=27 and sub<30):\n",
    "total_marks=int(input(\"enter your total marks:\"))\n",
    "if (total_marks>=27 and total_marks<30):\n",
    "    print(\"do hard work, you passed with the help of grace marks\")\n",
    "elif (total_marks>=30 and total_marks<60):\n",
    "        print(\"you are passed\")\n",
    "elif (total_marks>=60 and total_marks<85):\n",
    "    print(\"you are passed with avarege marks\")\n",
    "elif (total_marks>=85):\n",
    "    print(\"you are excllent\")\n",
    "else:\n",
    "    print(\"you are fail,please repeat the class\") \n",
    "print(\"because,you got\",total_marks,\"out of 100;\\npassing marks 30 & grace marks 3\")"
   ]
  },
  {
   "cell_type": "code",
   "execution_count": 186,
   "id": "e2ab82c9-d11d-44e3-9704-ad8dbaf5baa8",
   "metadata": {},
   "outputs": [
    {
     "name": "stdin",
     "output_type": "stream",
     "text": [
      "please input something:  77\n"
     ]
    },
    {
     "name": "stdout",
     "output_type": "stream",
     "text": [
      "your input is (<class 'str'>, 'type')\n",
      "your input converting after integer is: 77\n",
      "<class 'int'>\n"
     ]
    }
   ],
   "source": [
    "# Q9> Write a Python program to convert user input from string to integer, float, and boolean types.\n",
    "# string to integer\n",
    "a=input(\"please input something: \")\n",
    "print(\"your input is\",(type(a),\"type\"))\n",
    "a=int(a)\n",
    "print(\"your input converting after integer is:\",a)\n",
    "print(type(a))"
   ]
  },
  {
   "cell_type": "code",
   "execution_count": 188,
   "id": "1f154404-c060-463c-91d4-49c12f0daa1c",
   "metadata": {},
   "outputs": [
    {
     "name": "stdin",
     "output_type": "stream",
     "text": [
      "please input something:  77\n"
     ]
    },
    {
     "name": "stdout",
     "output_type": "stream",
     "text": [
      "your input is (<class 'str'>, 'type')\n",
      "your input converting after float is: 77.0\n",
      "<class 'float'>\n"
     ]
    }
   ],
   "source": [
    "#string to float\n",
    "a=input(\"please enter  a number: \")\n",
    "print(\"your input is\",(type(a),\"type\"))\n",
    "a=float(a)\n",
    "print(\"your input converting after float is:\",a)\n",
    "print(type(a))"
   ]
  },
  {
   "cell_type": "code",
   "execution_count": 5,
   "id": "89029c21-c195-473d-a666-482d7c05931d",
   "metadata": {},
   "outputs": [
    {
     "name": "stdin",
     "output_type": "stream",
     "text": [
      "please enter a number:  0\n"
     ]
    },
    {
     "name": "stdout",
     "output_type": "stream",
     "text": [
      "your input is (<class 'bool'>, 'type')\n",
      "your input converting after boolian is: True\n",
      "<class 'bool'>\n"
     ]
    }
   ],
   "source": [
    "#string to boolian\n",
    "a=bool(input(\"please enter a number: \"))\n",
    "print(\"your input is\",(type(a),\"type\"))\n",
    "print(\"your input converting after boolian is:\",bool(a))\n",
    "print(type(a))"
   ]
  },
  {
   "cell_type": "code",
   "execution_count": 19,
   "id": "5428b910-391d-4395-a287-6c549ca57aa4",
   "metadata": {},
   "outputs": [
    {
     "name": "stdout",
     "output_type": "stream",
     "text": [
      "[2, 4, 'saurabh', 2, True, False]\n"
     ]
    }
   ],
   "source": [
    "#Q10> Write code to demonstrate type casting with list elements\n",
    "# type casting \n",
    "lis=[2,4,\"saurabh\",2.6,True,False]\n",
    "lis[3]=int(lis[3])\n",
    "print(lis)"
   ]
  },
  {
   "cell_type": "code",
   "execution_count": 25,
   "id": "42afe677-8ef9-4dda-9c21-84536a5e73b9",
   "metadata": {},
   "outputs": [
    {
     "name": "stdin",
     "output_type": "stream",
     "text": [
      "please enter a number: 0\n"
     ]
    },
    {
     "name": "stdout",
     "output_type": "stream",
     "text": [
      "this is ZERO, 0\n"
     ]
    }
   ],
   "source": [
    "#Q11> Write a program that checks if a number is positive, negative, or zero\n",
    "a=int(input(\"please enter a number:\"))\n",
    "if a<0:\n",
    "    print(\"this is a negative number\",a)\n",
    "elif a==0:\n",
    "    print(\"this is ZERO,\",a)\n",
    "else:\n",
    "    print(\"this is a positive number,\",a) "
   ]
  },
  {
   "cell_type": "code",
   "execution_count": 31,
   "id": "ed41214a-8a30-4c5a-8326-9dd4cf15a11f",
   "metadata": {},
   "outputs": [
    {
     "name": "stdout",
     "output_type": "stream",
     "text": [
      "1\n",
      "2\n",
      "3\n",
      "4\n",
      "5\n",
      "6\n",
      "7\n",
      "8\n",
      "9\n",
      "10\n"
     ]
    }
   ],
   "source": [
    "#Q12>  Write a for loop to print numbers from 1 to 10\n",
    "for i in range(1,11):\n",
    "    print(i)"
   ]
  },
  {
   "cell_type": "code",
   "execution_count": 39,
   "id": "e685d53e-967e-40a9-aa7a-493c605a2878",
   "metadata": {},
   "outputs": [
    {
     "name": "stdout",
     "output_type": "stream",
     "text": [
      "sum of all even numbers between 1 to 50 is, 650\n"
     ]
    }
   ],
   "source": [
    "#Q13> Write a Python program to find the sum of all even numbers between 1 and 50\n",
    "i=2\n",
    "n=50\n",
    "sum_=0\n",
    "while i<=n:\n",
    "    sum_+=i\n",
    "    i+=2\n",
    "print(\"sum of all even numbers between 1 to 50 is,\",sum_)"
   ]
  },
  {
   "cell_type": "code",
   "execution_count": 79,
   "id": "f84744e6-e06a-4fb7-9961-002cc08e4a3c",
   "metadata": {},
   "outputs": [
    {
     "name": "stdin",
     "output_type": "stream",
     "text": [
      "enter a word: HELLO WORLD\n"
     ]
    },
    {
     "name": "stdout",
     "output_type": "stream",
     "text": [
      "reverse string:\n",
      "DLROW OLLEH"
     ]
    }
   ],
   "source": [
    "#Q14> Write a program to reverse a string using a while loop.\n",
    "a=input(\"enter a word:\")\n",
    "indx=len(a)\n",
    "indx-=1\n",
    "leng=0\n",
    "print(\"reverse string:\")\n",
    "while leng<=indx:\n",
    "    print(a[indx],end=\"\")\n",
    "    indx-=1   "
   ]
  },
  {
   "cell_type": "code",
   "execution_count": 19,
   "id": "66b5f534-c2d6-4641-93ce-2df60746b270",
   "metadata": {},
   "outputs": [
    {
     "name": "stdin",
     "output_type": "stream",
     "text": [
      "provide a positve  number: 5\n"
     ]
    },
    {
     "name": "stdout",
     "output_type": "stream",
     "text": [
      "the factorial of your number is: 120\n"
     ]
    }
   ],
   "source": [
    "#Q15> Write a Python program to calculate the factorial of a number provided by the user using a while loop\n",
    "\n",
    "num=int(input(\"provide a positve  number:\"))\n",
    "f=1\n",
    "while num>0:\n",
    "    f=f*num\n",
    "    num=num-1\n",
    "print(\"the factorial of your number is:\",f)\n",
    "    "
   ]
  },
  {
   "cell_type": "code",
   "execution_count": null,
   "id": "985a94e5-e54e-4089-907f-2f3acf5e3746",
   "metadata": {},
   "outputs": [],
   "source": []
  }
 ],
 "metadata": {
  "kernelspec": {
   "display_name": "Python 3 (ipykernel)",
   "language": "python",
   "name": "python3"
  },
  "language_info": {
   "codemirror_mode": {
    "name": "ipython",
    "version": 3
   },
   "file_extension": ".py",
   "mimetype": "text/x-python",
   "name": "python",
   "nbconvert_exporter": "python",
   "pygments_lexer": "ipython3",
   "version": "3.12.7"
  }
 },
 "nbformat": 4,
 "nbformat_minor": 5
}
